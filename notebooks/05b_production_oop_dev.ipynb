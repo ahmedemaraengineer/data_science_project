{
 "cells": [
  {
   "cell_type": "code",
   "execution_count": 3,
   "id": "fce01e79",
   "metadata": {},
   "outputs": [],
   "source": [
    "CLUSTERS_YAML_PATH = \"C:/Users/M/Documents/data_science_project/data/processed/features_skills_clusters_description.yaml\"\n",
    "LOG_DATA_PKL = 'data.pkl'\n",
    "LOG_MODEL_PKL = 'model.pkl'\n",
    "ARTIFACTS_PATH = 'C:/Users/M/Documents/data_science_project/notebooks/mlruns/1/67403f4417c34d82b102947d9e1aaa9d/artifacts/'"
   ]
  },
  {
   "cell_type": "code",
   "execution_count": 2,
   "id": "a11388eb",
   "metadata": {},
   "outputs": [],
   "source": [
    "import os \n",
    "import sklearn\n",
    "import pickle\n",
    "import yaml\n",
    "\n",
    "import pandas as pd\n",
    "\n",
    "import mlflow\n",
    "from mlflow.tracking import MlflowClient"
   ]
  },
  {
   "cell_type": "code",
   "execution_count": 4,
   "id": "3b06d984",
   "metadata": {},
   "outputs": [],
   "source": [
    "class JobPrediction :\n",
    "    \"\"\"Production Class For Predicting The Probability Of a job from skills \"\"\"\n",
    "    # Class Attributes\n",
    "    path_clusters_config = None\n",
    "    skills_clusters_df   = None\n",
    "    \n",
    "    artifacts_path = None\n",
    "    \n",
    "    model = None\n",
    "    all_features = None\n",
    "    all_jobs = None\n",
    "    \n",
    "    # Constructor \n",
    "    def __init__(self ,artifacts_path ,clusters_yaml_path) :\n",
    "        self.artifacts_path = artifacts_path\n",
    "        # Retrive models and features\n",
    "        mlflow_objs = self.load_mlflow_objs(artifacts_path)\n",
    "        self.model = mlflow_objs[0]\n",
    "        self.all_features = mlflow_objs[1]\n",
    "        self.all_jobs = mlflow_objs[2]\n",
    "        # Load cluster config \n",
    "        self.path_clusters_config = clusters_yaml_path\n",
    "        self.skills_clusters_df = self.load_clusters_config(clusters_yaml_path)\n",
    "        \n",
    "    # ---------------------------------------------------------------------------------\n",
    "\n",
    "    # Helper Functions\n",
    "\n",
    "    def load_mlflow_objs(self ,artifacts_path) :\n",
    "        # load data pkl\n",
    "        data_path = os.path.join(artifacts_path ,LOG_DATA_PKL)\n",
    "        with open(data_path ,'rb') as handle :\n",
    "            data_pkl = pickle.load(handle)\n",
    "            \n",
    "        # load model pkl \n",
    "        model_path = os.path.join(artifacts_path ,LOG_MODEL_PKL)\n",
    "        with open(model_path ,'rb') as handle :\n",
    "            model_pkl = pickle.load(handle)\n",
    "            \n",
    "        return model_pkl[\"model_object\"], data_pkl[\"features_names\"], data_pkl[\"targets_names\"]\n",
    "    \n",
    "    # ------------------------------------------------------------------------------------\n",
    "    \n",
    "    def load_clusters_config(self ,path_clusters_config) :\n",
    "        with open(path_clusters_config ,'r') as stream :\n",
    "            cluster_config = yaml.safe_load(stream)\n",
    "            \n",
    "        clusters_df = [(cluster_name, cluster_skill)\n",
    "                       for cluster_name, cluster_skills in cluster_config.items()\n",
    "                       for cluster_skill in cluster_skills]\n",
    "        clusters_df = pd.DataFrame(clusters_df ,columns = ['cluster_name' ,'skill'])\n",
    "        return clusters_df\n",
    "    \n",
    "    # ========================================================\n",
    "    # **************    Prediction Functions    **************  \n",
    "    # ========================================================\n",
    "    \n",
    "    def create_features_array(self, available_skills):\n",
    "        \"\"\"Create the features array from a list of the available skills\"\"\"\n",
    "        \n",
    "        # Method's helper functions \n",
    "        def create_clusters_features(self, available_skills):\n",
    "            sample_clusters = self.skills_clusters_df.copy()\n",
    "            sample_clusters[\"available_skills\"] = sample_clusters[\"skill\"].isin(available_skills)\n",
    "            cluster_features = sample_clusters.groupby(\"cluster_name\")[\"available_skills\"].sum()\n",
    "            return cluster_features\n",
    "            \n",
    "        def create_skills_features(self, available_skills, exclude_features):\n",
    "            all_features = pd.Series(self.all_features.copy())\n",
    "            skills_names = all_features[~all_features.isin(exclude_features)]\n",
    "            ohe_skills = pd.Series(skills_names.isin(available_skills).astype(int).tolist(), \n",
    "                                   index=skills_names)\n",
    "            return ohe_skills\n",
    "        \n",
    "        # -------------------------\n",
    "        \n",
    "        # Method's main\n",
    "        clusters_features = create_clusters_features(self, available_skills)\n",
    "        skills_features   = create_skills_features(self, available_skills, \n",
    "                                                   exclude_features=clusters_features.index)\n",
    "        # ... Combine features and sort \n",
    "        features = pd.concat([skills_features, clusters_features])\n",
    "        features = features[self.all_features]\n",
    "        return features.values \n",
    "    \n",
    "    \n",
    "    def predict_jobs_probabilities(self, available_skills):\n",
    "        '''Returns probabilities of the different jobs according to the skills'''\n",
    "        # Create features array \n",
    "        features_array = self.create_features_array(available_skills)\n",
    "        \n",
    "        # Predict and format\n",
    "        predictions = self.model.predict_proba([features_array])\n",
    "        predictions = [prob[0][1] for prob in predictions] # Keep positive probs \n",
    "        predictions = pd.Series(predictions, index=self.all_jobs)\n",
    "        \n",
    "        return predictions\n",
    "\n",
    "    \n",
    "    # ==============================================================        "
   ]
  },
  {
   "cell_type": "code",
   "execution_count": 5,
   "id": "d83f6d53",
   "metadata": {},
   "outputs": [],
   "source": [
    "job_pred = JobPrediction(ARTIFACTS_PATH, CLUSTERS_YAML_PATH)"
   ]
  },
  {
   "cell_type": "code",
   "execution_count": 6,
   "id": "43dd5dc1",
   "metadata": {},
   "outputs": [
    {
     "data": {
      "text/plain": [
       "array([0, 0, 0, 0, 0, 0, 0, 0, 0, 0, 0, 1, 0, 0, 0, 0, 1, 0, 0, 0, 0, 0,\n",
       "       0, 0, 0, 0, 0, 0, 0, 0, 0, 0, 0, 0, 0, 0, 0, 0, 0, 0, 0, 0, 0, 0,\n",
       "       0, 0, 0, 0, 0, 0, 0, 0, 0, 0, 0, 0, 0, 0, 0, 0, 0, 0, 0, 0, 0, 1,\n",
       "       0, 0, 1, 0, 1, 0, 0, 0, 0, 0, 0, 0, 0, 0, 0, 0, 0, 0, 0, 0, 1, 1,\n",
       "       3, 0, 0], dtype=int64)"
      ]
     },
     "execution_count": 6,
     "metadata": {},
     "output_type": "execute_result"
    }
   ],
   "source": [
    "job_pred.create_features_array(['Pandas', 'TensorFlow', 'Torch/PyTorch', 'Julia', 'Python'])"
   ]
  },
  {
   "cell_type": "code",
   "execution_count": 7,
   "id": "cbbe1511",
   "metadata": {},
   "outputs": [
    {
     "data": {
      "text/plain": [
       "Academic researcher                              0.63\n",
       "Data or business analyst                         0.02\n",
       "Data scientist or machine learning specialist    0.88\n",
       "Database administrator                           0.00\n",
       "DevOps specialist                                0.01\n",
       "Developer, QA or test                            0.01\n",
       "Developer, back-end                              0.03\n",
       "Developer, desktop or enterprise applications    0.01\n",
       "Developer, embedded applications or devices      0.00\n",
       "Developer, front-end                             0.00\n",
       "Developer, full-stack                            0.01\n",
       "Developer, game or graphics                      0.01\n",
       "Developer, mobile                                0.02\n",
       "Engineer, data                                   0.03\n",
       "Scientist                                        0.26\n",
       "System administrator                             0.01\n",
       "dtype: float64"
      ]
     },
     "execution_count": 7,
     "metadata": {},
     "output_type": "execute_result"
    }
   ],
   "source": [
    "job_pred.predict_jobs_probabilities(['Pandas', 'TensorFlow', 'Torch/PyTorch', 'Julia', 'Python'])"
   ]
  },
  {
   "cell_type": "code",
   "execution_count": null,
   "id": "bee637d5",
   "metadata": {},
   "outputs": [],
   "source": []
  }
 ],
 "metadata": {
  "kernelspec": {
   "display_name": "Python 3",
   "language": "python",
   "name": "python3"
  },
  "language_info": {
   "codemirror_mode": {
    "name": "ipython",
    "version": 3
   },
   "file_extension": ".py",
   "mimetype": "text/x-python",
   "name": "python",
   "nbconvert_exporter": "python",
   "pygments_lexer": "ipython3",
   "version": "3.8.8"
  }
 },
 "nbformat": 4,
 "nbformat_minor": 5
}
