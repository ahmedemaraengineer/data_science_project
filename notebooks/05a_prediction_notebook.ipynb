{
 "cells": [
  {
   "cell_type": "code",
   "execution_count": 17,
   "id": "dc511bc0",
   "metadata": {},
   "outputs": [],
   "source": [
    "LOG_DATA_PKL = 'data.pkl'\n",
    "LOG_MODEL_PKL = 'model.pkl'\n",
    "artifacts_path = 'C:/Users/M/Documents/data_science_project/notebooks/mlruns/1/67403f4417c34d82b102947d9e1aaa9d/artifacts/'"
   ]
  },
  {
   "cell_type": "code",
   "execution_count": 2,
   "id": "6422a663",
   "metadata": {},
   "outputs": [],
   "source": [
    "import os \n",
    "import sklearn\n",
    "import pickle\n",
    "import yaml\n",
    "\n",
    "import pandas as pd\n",
    "\n",
    "import mlflow\n",
    "from mlflow.tracking import MlflowClient"
   ]
  },
  {
   "cell_type": "markdown",
   "id": "445dd57c",
   "metadata": {},
   "source": [
    "# Load Model"
   ]
  },
  {
   "cell_type": "code",
   "execution_count": 16,
   "id": "e3140319",
   "metadata": {},
   "outputs": [],
   "source": [
    "# Load data pkl\n",
    "data_path  = os.path.join(artifacts_path ,LOG_DATA_PKL)\n",
    "with open(data_path, 'rb') as handle:\n",
    "    data_pkl = pickle.load(handle)"
   ]
  },
  {
   "cell_type": "code",
   "execution_count": 19,
   "id": "440c90d6",
   "metadata": {},
   "outputs": [],
   "source": [
    "# Load model pkl\n",
    "model_path = os.path.join(artifacts_path, LOG_MODEL_PKL)\n",
    "with open(model_path, 'rb') as handle:\n",
    "    model_pkl = pickle.load(handle)\n",
    "\n",
    "model = model_pkl[\"model_object\"]"
   ]
  },
  {
   "cell_type": "code",
   "execution_count": 20,
   "id": "9e4d6622",
   "metadata": {},
   "outputs": [
    {
     "data": {
      "text/plain": [
       "Pipeline(steps=[('standardscaler', StandardScaler()),\n",
       "                ('featureunion',\n",
       "                 FeatureUnion(transformer_list=[('linear_pca',\n",
       "                                                 PCA(n_components=40)),\n",
       "                                                ('kernel_pca',\n",
       "                                                 KernelPCA(kernel='rbf',\n",
       "                                                           n_components=40))])),\n",
       "                ('randomforestclassifier',\n",
       "                 RandomForestClassifier(random_state=0))])"
      ]
     },
     "execution_count": 20,
     "metadata": {},
     "output_type": "execute_result"
    }
   ],
   "source": [
    "model"
   ]
  },
  {
   "cell_type": "markdown",
   "id": "1387f026",
   "metadata": {},
   "source": [
    "# Predict Sample Entry "
   ]
  },
  {
   "cell_type": "code",
   "execution_count": 21,
   "id": "a890c168",
   "metadata": {},
   "outputs": [],
   "source": [
    "CLUSTERS_YAML_PATH = \"C:/Users/M/Documents/data_science_project/data/processed/features_skills_clusters_description.yaml\""
   ]
  },
  {
   "cell_type": "code",
   "execution_count": 22,
   "id": "d6dd7659",
   "metadata": {},
   "outputs": [
    {
     "data": {
      "text/plain": [
       "'C:/Users/M/Documents/data_science_project/data/processed/features_skills_clusters_description.yaml'"
      ]
     },
     "execution_count": 22,
     "metadata": {},
     "output_type": "execute_result"
    }
   ],
   "source": [
    "CLUSTERS_YAML_PATH"
   ]
  },
  {
   "cell_type": "code",
   "execution_count": 23,
   "id": "02256e0d",
   "metadata": {},
   "outputs": [],
   "source": [
    "with open(CLUSTERS_YAML_PATH ,'r') as stream :\n",
    "    cluster_config = yaml.safe_load(stream)"
   ]
  },
  {
   "cell_type": "code",
   "execution_count": 26,
   "id": "e17652f0",
   "metadata": {},
   "outputs": [
    {
     "data": {
      "text/plain": [
       "{'skills_group_0': ['C#',\n",
       "  'VBA',\n",
       "  'Microsoft SQL Server',\n",
       "  'ASP.NET',\n",
       "  'ASP.NET Core',\n",
       "  '.NET',\n",
       "  '.NET Core',\n",
       "  'Xamarin'],\n",
       " 'skills_group_1': ['Go',\n",
       "  'DynamoDB',\n",
       "  'Elasticsearch',\n",
       "  'PostgreSQL',\n",
       "  'Redis',\n",
       "  'Ansible',\n",
       "  'Teraform'],\n",
       " 'skills_group_10': ['HTML/CSS', 'JavaScript', 'SQL', 'jQuery'],\n",
       " 'skills_group_11': ['Ruby', 'Ruby on Rails'],\n",
       " 'skills_group_12': ['Assembly', 'C', 'C++'],\n",
       " 'skills_group_13': ['Unity 3D', 'Unreal Engine'],\n",
       " 'skills_group_14': ['Dart', 'Firebase', 'Flutter'],\n",
       " 'skills_group_15': ['Chef', 'Puppet'],\n",
       " 'skills_group_16': ['Objective-C', 'Swift'],\n",
       " 'skills_group_2': ['PHP',\n",
       "  'MariaDB',\n",
       "  'MySQL',\n",
       "  'SQLite',\n",
       "  'Drupal',\n",
       "  'Laravel',\n",
       "  'Symfony',\n",
       "  'Vue.js'],\n",
       " 'skills_group_3': ['Scala',\n",
       "  'Cassandra',\n",
       "  'Couchbase',\n",
       "  'Apache Spark',\n",
       "  'Hadoop'],\n",
       " 'skills_group_4': ['MongoDB',\n",
       "  'Express',\n",
       "  'Gatsby',\n",
       "  'React.js',\n",
       "  'Node.js',\n",
       "  'React Native'],\n",
       " 'skills_group_5': ['Bash/Shell/PowerShell',\n",
       "  'Perl',\n",
       "  'Python',\n",
       "  'Django',\n",
       "  'Flask'],\n",
       " 'skills_group_6': ['Haskell', 'Julia', 'Rust'],\n",
       " 'skills_group_7': ['R', 'Keras', 'Pandas', 'TensorFlow', 'Torch/PyTorch'],\n",
       " 'skills_group_8': ['TypeScript', 'Angular', 'Angular.js', 'Cordova'],\n",
       " 'skills_group_9': ['Java', 'Kotlin', 'IBM DB2', 'Oracle', 'Spring']}"
      ]
     },
     "execution_count": 26,
     "metadata": {},
     "output_type": "execute_result"
    }
   ],
   "source": [
    "cluster_config"
   ]
  },
  {
   "cell_type": "code",
   "execution_count": 28,
   "id": "3176da8d",
   "metadata": {},
   "outputs": [],
   "source": [
    "molten_clusters = [(cluster_name, cluster_skill)\n",
    "                   for cluster_name, cluster_skills in cluster_config.items()\n",
    "                   for cluster_skill in cluster_skills]"
   ]
  },
  {
   "cell_type": "code",
   "execution_count": 30,
   "id": "8bdb0208",
   "metadata": {},
   "outputs": [
    {
     "data": {
      "text/html": [
       "<div>\n",
       "<style scoped>\n",
       "    .dataframe tbody tr th:only-of-type {\n",
       "        vertical-align: middle;\n",
       "    }\n",
       "\n",
       "    .dataframe tbody tr th {\n",
       "        vertical-align: top;\n",
       "    }\n",
       "\n",
       "    .dataframe thead th {\n",
       "        text-align: right;\n",
       "    }\n",
       "</style>\n",
       "<table border=\"1\" class=\"dataframe\">\n",
       "  <thead>\n",
       "    <tr style=\"text-align: right;\">\n",
       "      <th></th>\n",
       "      <th>cluster_name</th>\n",
       "      <th>skill</th>\n",
       "    </tr>\n",
       "  </thead>\n",
       "  <tbody>\n",
       "    <tr>\n",
       "      <th>0</th>\n",
       "      <td>skills_group_0</td>\n",
       "      <td>C#</td>\n",
       "    </tr>\n",
       "    <tr>\n",
       "      <th>1</th>\n",
       "      <td>skills_group_0</td>\n",
       "      <td>VBA</td>\n",
       "    </tr>\n",
       "    <tr>\n",
       "      <th>2</th>\n",
       "      <td>skills_group_0</td>\n",
       "      <td>Microsoft SQL Server</td>\n",
       "    </tr>\n",
       "    <tr>\n",
       "      <th>3</th>\n",
       "      <td>skills_group_0</td>\n",
       "      <td>ASP.NET</td>\n",
       "    </tr>\n",
       "    <tr>\n",
       "      <th>4</th>\n",
       "      <td>skills_group_0</td>\n",
       "      <td>ASP.NET Core</td>\n",
       "    </tr>\n",
       "    <tr>\n",
       "      <th>...</th>\n",
       "      <td>...</td>\n",
       "      <td>...</td>\n",
       "    </tr>\n",
       "    <tr>\n",
       "      <th>69</th>\n",
       "      <td>skills_group_9</td>\n",
       "      <td>Java</td>\n",
       "    </tr>\n",
       "    <tr>\n",
       "      <th>70</th>\n",
       "      <td>skills_group_9</td>\n",
       "      <td>Kotlin</td>\n",
       "    </tr>\n",
       "    <tr>\n",
       "      <th>71</th>\n",
       "      <td>skills_group_9</td>\n",
       "      <td>IBM DB2</td>\n",
       "    </tr>\n",
       "    <tr>\n",
       "      <th>72</th>\n",
       "      <td>skills_group_9</td>\n",
       "      <td>Oracle</td>\n",
       "    </tr>\n",
       "    <tr>\n",
       "      <th>73</th>\n",
       "      <td>skills_group_9</td>\n",
       "      <td>Spring</td>\n",
       "    </tr>\n",
       "  </tbody>\n",
       "</table>\n",
       "<p>74 rows × 2 columns</p>\n",
       "</div>"
      ],
      "text/plain": [
       "      cluster_name                 skill\n",
       "0   skills_group_0                    C#\n",
       "1   skills_group_0                   VBA\n",
       "2   skills_group_0  Microsoft SQL Server\n",
       "3   skills_group_0               ASP.NET\n",
       "4   skills_group_0          ASP.NET Core\n",
       "..             ...                   ...\n",
       "69  skills_group_9                  Java\n",
       "70  skills_group_9                Kotlin\n",
       "71  skills_group_9               IBM DB2\n",
       "72  skills_group_9                Oracle\n",
       "73  skills_group_9                Spring\n",
       "\n",
       "[74 rows x 2 columns]"
      ]
     },
     "execution_count": 30,
     "metadata": {},
     "output_type": "execute_result"
    }
   ],
   "source": [
    "clusters_df = pd.DataFrame(molten_clusters, columns=[\"cluster_name\", \"skill\"])\n",
    "clusters_df"
   ]
  },
  {
   "cell_type": "markdown",
   "id": "d870c59e",
   "metadata": {},
   "source": [
    "# Recreate cluster features"
   ]
  },
  {
   "cell_type": "code",
   "execution_count": 31,
   "id": "e49430b7",
   "metadata": {},
   "outputs": [],
   "source": [
    "sample_skills = ['Pandas', 'TensorFlow', 'Torch/PyTorch', 'Python', 'Keras']"
   ]
  },
  {
   "cell_type": "code",
   "execution_count": 32,
   "id": "81ebfaae",
   "metadata": {},
   "outputs": [],
   "source": [
    "sample_clusters = clusters_df.copy()"
   ]
  },
  {
   "cell_type": "code",
   "execution_count": 33,
   "id": "53ff976d",
   "metadata": {},
   "outputs": [],
   "source": [
    "sample_clusters[\"sample_skills\"] = sample_clusters[\"skill\"].isin(sample_skills)"
   ]
  },
  {
   "cell_type": "code",
   "execution_count": 35,
   "id": "c85cd574",
   "metadata": {},
   "outputs": [
    {
     "data": {
      "text/plain": [
       "cluster_name\n",
       "skills_group_0     0\n",
       "skills_group_1     0\n",
       "skills_group_10    0\n",
       "skills_group_11    0\n",
       "skills_group_12    0\n",
       "skills_group_13    0\n",
       "skills_group_14    0\n",
       "skills_group_15    0\n",
       "skills_group_16    0\n",
       "skills_group_2     0\n",
       "skills_group_3     0\n",
       "skills_group_4     0\n",
       "skills_group_5     1\n",
       "skills_group_6     0\n",
       "skills_group_7     4\n",
       "skills_group_8     0\n",
       "skills_group_9     0\n",
       "Name: sample_skills, dtype: int64"
      ]
     },
     "execution_count": 35,
     "metadata": {},
     "output_type": "execute_result"
    }
   ],
   "source": [
    "cluster_features = sample_clusters.groupby('cluster_name')['sample_skills'].sum()\n",
    "cluster_features"
   ]
  },
  {
   "cell_type": "markdown",
   "id": "6beacdb3",
   "metadata": {},
   "source": [
    "# Create OneHotEncoded Skills"
   ]
  },
  {
   "cell_type": "code",
   "execution_count": 38,
   "id": "ee9bb835",
   "metadata": {},
   "outputs": [
    {
     "data": {
      "text/plain": [
       "0                  Assembly\n",
       "1     Bash/Shell/PowerShell\n",
       "2                         C\n",
       "3                        C#\n",
       "4                       C++\n",
       "              ...          \n",
       "86           skills_group_5\n",
       "87           skills_group_6\n",
       "88           skills_group_7\n",
       "89           skills_group_8\n",
       "90           skills_group_9\n",
       "Length: 91, dtype: object"
      ]
     },
     "execution_count": 38,
     "metadata": {},
     "output_type": "execute_result"
    }
   ],
   "source": [
    "features_names = pd.Series(data_pkl['features_names'])\n",
    "features_names"
   ]
  },
  {
   "cell_type": "code",
   "execution_count": 39,
   "id": "286240b6",
   "metadata": {},
   "outputs": [
    {
     "data": {
      "text/plain": [
       "0                  Assembly\n",
       "1     Bash/Shell/PowerShell\n",
       "2                         C\n",
       "3                        C#\n",
       "4                       C++\n",
       "              ...          \n",
       "69                 Teraform\n",
       "70            Torch/PyTorch\n",
       "71                 Unity 3D\n",
       "72            Unreal Engine\n",
       "73                  Xamarin\n",
       "Length: 74, dtype: object"
      ]
     },
     "execution_count": 39,
     "metadata": {},
     "output_type": "execute_result"
    }
   ],
   "source": [
    "skills_names = features_names[~features_names.isin(cluster_features.index)]\n",
    "skills_names"
   ]
  },
  {
   "cell_type": "code",
   "execution_count": 42,
   "id": "4f2693f2",
   "metadata": {},
   "outputs": [
    {
     "data": {
      "text/plain": [
       "Assembly                 0\n",
       "Bash/Shell/PowerShell    0\n",
       "C                        0\n",
       "C#                       0\n",
       "C++                      0\n",
       "                        ..\n",
       "Teraform                 0\n",
       "Torch/PyTorch            1\n",
       "Unity 3D                 0\n",
       "Unreal Engine            0\n",
       "Xamarin                  0\n",
       "Length: 74, dtype: int64"
      ]
     },
     "execution_count": 42,
     "metadata": {},
     "output_type": "execute_result"
    }
   ],
   "source": [
    "ohe_skills = pd.Series(skills_names.isin(sample_skills).astype(int).tolist() ,index = skills_names)\n",
    "ohe_skills"
   ]
  },
  {
   "cell_type": "code",
   "execution_count": 43,
   "id": "d7bb9ec6",
   "metadata": {},
   "outputs": [],
   "source": [
    "features = pd.concat([ohe_skills ,cluster_features])"
   ]
  },
  {
   "cell_type": "code",
   "execution_count": 44,
   "id": "ba6cb672",
   "metadata": {},
   "outputs": [
    {
     "data": {
      "text/plain": [
       "Assembly                 0\n",
       "Bash/Shell/PowerShell    0\n",
       "C                        0\n",
       "C#                       0\n",
       "C++                      0\n",
       "                        ..\n",
       "skills_group_5           1\n",
       "skills_group_6           0\n",
       "skills_group_7           4\n",
       "skills_group_8           0\n",
       "skills_group_9           0\n",
       "Length: 91, dtype: int64"
      ]
     },
     "execution_count": 44,
     "metadata": {},
     "output_type": "execute_result"
    }
   ],
   "source": [
    "features"
   ]
  },
  {
   "cell_type": "markdown",
   "id": "138745ef",
   "metadata": {},
   "source": [
    "# Predict"
   ]
  },
  {
   "cell_type": "code",
   "execution_count": 46,
   "id": "d147fec6",
   "metadata": {},
   "outputs": [],
   "source": [
    "predictions = model.predict_proba([features.values])"
   ]
  },
  {
   "cell_type": "code",
   "execution_count": 55,
   "id": "2c5da2a7",
   "metadata": {},
   "outputs": [
    {
     "data": {
      "text/plain": [
       "Data scientist or machine learning specialist    0.900000\n",
       "Scientist                                        0.143333\n",
       "Data or business analyst                         0.070000\n",
       "Academic researcher                              0.036667\n",
       "Developer, game or graphics                      0.030000\n",
       "Developer, back-end                              0.013333\n",
       "Developer, embedded applications or devices      0.010000\n",
       "Engineer, data                                   0.010000\n",
       "DevOps specialist                                0.006667\n",
       "Database administrator                           0.000000\n",
       "Developer, QA or test                            0.000000\n",
       "Developer, desktop or enterprise applications    0.000000\n",
       "Developer, front-end                             0.000000\n",
       "Developer, full-stack                            0.000000\n",
       "Developer, mobile                                0.000000\n",
       "System administrator                             0.000000\n",
       "dtype: float64"
      ]
     },
     "execution_count": 55,
     "metadata": {},
     "output_type": "execute_result"
    }
   ],
   "source": [
    "positive_pred = [prob[0][1] for prob in predictions]\n",
    "preds = pd.Series(positive_pred ,index = data_pkl['targets_names']).sort_values(ascending = False)\n",
    "preds"
   ]
  },
  {
   "cell_type": "code",
   "execution_count": null,
   "id": "7a105ca8",
   "metadata": {},
   "outputs": [],
   "source": []
  }
 ],
 "metadata": {
  "kernelspec": {
   "display_name": "Python 3",
   "language": "python",
   "name": "python3"
  },
  "language_info": {
   "codemirror_mode": {
    "name": "ipython",
    "version": 3
   },
   "file_extension": ".py",
   "mimetype": "text/x-python",
   "name": "python",
   "nbconvert_exporter": "python",
   "pygments_lexer": "ipython3",
   "version": "3.8.8"
  }
 },
 "nbformat": 4,
 "nbformat_minor": 5
}
