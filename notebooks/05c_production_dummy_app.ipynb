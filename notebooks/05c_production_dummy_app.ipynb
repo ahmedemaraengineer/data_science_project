{
 "cells": [
  {
   "cell_type": "code",
   "execution_count": 30,
   "id": "e9cf64af",
   "metadata": {},
   "outputs": [],
   "source": [
    "PREDICTION_URL = 'http://127.0.0.1:5000/predict_jobs_probs'"
   ]
  },
  {
   "cell_type": "code",
   "execution_count": 27,
   "id": "a0ab9ac3",
   "metadata": {},
   "outputs": [],
   "source": [
    "import requests\n",
    "import json\n",
    "import pandas as pd"
   ]
  },
  {
   "cell_type": "code",
   "execution_count": 31,
   "id": "4030d92f",
   "metadata": {},
   "outputs": [],
   "source": [
    "available_skills = ['Pandas', 'TensorFlow', 'Torch/PyTorch', 'Python']\n",
    "\n",
    "response = requests.post(PREDICTION_URL, \n",
    "                         data=json.dumps(available_skills), \n",
    "                         headers={'content-type':'application/json'})"
   ]
  },
  {
   "cell_type": "code",
   "execution_count": 53,
   "id": "99a53b5e",
   "metadata": {},
   "outputs": [],
   "source": [
    "probs = json.loads(response.text)"
   ]
  },
  {
   "cell_type": "code",
   "execution_count": 56,
   "id": "17b89b9c",
   "metadata": {},
   "outputs": [],
   "source": [
    "probs = pd.Series(probs).sort_values(ascending=False)"
   ]
  },
  {
   "cell_type": "code",
   "execution_count": 57,
   "id": "dd1afe43",
   "metadata": {},
   "outputs": [
    {
     "data": {
      "text/plain": [
       "Data scientist or machine learning specialist    0.734167\n",
       "Academic researcher                              0.336667\n",
       "Scientist                                        0.215833\n",
       "Data or business analyst                         0.065000\n",
       "Developer, embedded applications or devices      0.040000\n",
       "Developer, full-stack                            0.039167\n",
       "Engineer, data                                   0.036667\n",
       "Developer, back-end                              0.020000\n",
       "Developer, game or graphics                      0.020000\n",
       "DevOps specialist                                0.010000\n",
       "Developer, mobile                                0.010000\n",
       "Database administrator                           0.000000\n",
       "Developer, QA or test                            0.000000\n",
       "Developer, desktop or enterprise applications    0.000000\n",
       "Developer, front-end                             0.000000\n",
       "System administrator                             0.000000\n",
       "dtype: float64"
      ]
     },
     "execution_count": 57,
     "metadata": {},
     "output_type": "execute_result"
    }
   ],
   "source": [
    "probs"
   ]
  },
  {
   "cell_type": "code",
   "execution_count": null,
   "id": "d8f62f1f",
   "metadata": {},
   "outputs": [],
   "source": []
  }
 ],
 "metadata": {
  "kernelspec": {
   "display_name": "Python 3",
   "language": "python",
   "name": "python3"
  },
  "language_info": {
   "codemirror_mode": {
    "name": "ipython",
    "version": 3
   },
   "file_extension": ".py",
   "mimetype": "text/x-python",
   "name": "python",
   "nbconvert_exporter": "python",
   "pygments_lexer": "ipython3",
   "version": "3.8.8"
  }
 },
 "nbformat": 4,
 "nbformat_minor": 5
}
